{
 "cells": [
  {
   "cell_type": "markdown",
   "id": "d15d8294-3328-4e07-ad16-8a03e9bbfdb9",
   "metadata": {},
   "source": [
    "# Short Story Creator\n",
    "\n"
   ]
  },
  {
   "cell_type": "code",
   "execution_count": 31,
   "id": "4e2a9393-7767-488e-a8bf-27c12dca35bd",
   "metadata": {},
   "outputs": [],
   "source": [
    "# imports\n",
    "import ollama"
   ]
  },
  {
   "cell_type": "code",
   "execution_count": 32,
   "id": "29ddd15d-a3c5-4f4e-a678-873f56162724",
   "metadata": {},
   "outputs": [],
   "source": [
    "# Constants\n",
    "MODEL = \"llama3.1\"\n",
    "\n",
    "#user prompt args\n",
    "GENRES = [\"Fiction\", \"Nonfiction\", \"Drama\", \"Poetry\", \"Fantasy\", \"Horror\", \"Mystery\", \"Science Fiction\", \"Suspense\", \"Women's fiction\", \"Supernatural/Paranormal\", \"Suspense\", \"Young adult\"]\n",
    "THEMES = [\"Love\", \"Redemption\", \"Forgiveness\", \"Coming of age\", \"Revenge\", \"Good vs evil\", \"Bravery and hardship\", \"The power of social status\",\"The destructive nature of love\", \"The fallibility of the human condition\"]\n",
    "WRITING_STYLES = [\"Expository\", \"Narrative\", \"Descriptive\", \"Persuasive\", \"creative\"]\n",
    "TONES = [\"Formal\", \"Formal\", \"Optimistic\", \"Worried\", \"Friendly\", \"Curious\", \"Assertive\", \"Encouraging\"]"
   ]
  },
  {
   "cell_type": "code",
   "execution_count": 33,
   "id": "192107c0-bb16-495e-98d7-6b12a8060a08",
   "metadata": {},
   "outputs": [],
   "source": [
    "def get_story_user_prompt(genre, theme, style, tone):\n",
    "    user_prompt = f\"You are looking at genre: {genre}\\n\"\n",
    "    user_prompt += f\"with the theme: {theme}.\\n\"\n",
    "    user_prompt += f\"Author's writingStyle is: {style}.\\n\"\n",
    "    user_prompt += f\"Tone of the story is: {tone}.\"\n",
    "    user_prompt = user_prompt[:5_000] # Truncate if more than 5,000 characters\n",
    "    return user_prompt"
   ]
  },
  {
   "cell_type": "code",
   "execution_count": 34,
   "id": "dac0a679-599c-441f-9bf2-ddc73d35b940",
   "metadata": {},
   "outputs": [],
   "source": [
    "def create_short_story(genre, theme, style, tone):\n",
    "    response = ollama.chat(model=MODEL, messages=[\n",
    "            {\"role\": \"system\", \"content\": story_system_prompt},\n",
    "            {\"role\": \"user\", \"content\": get_story_user_prompt(genre, theme, style, tone)}\n",
    "          ])\n",
    "    return response['message']['content']\n"
   ]
  },
  {
   "cell_type": "code",
   "execution_count": 35,
   "id": "2a6cb86f-1a72-4765-94b5-1f38196acb93",
   "metadata": {},
   "outputs": [],
   "source": [
    "story_system_prompt = \"You are an creative story writing assistant that takes input like genre, theme, or character type \\\n",
    "and generates a short story.\""
   ]
  },
  {
   "cell_type": "code",
   "execution_count": 36,
   "id": "42b9f644-522d-4e05-a691-56e7658c0ea9",
   "metadata": {},
   "outputs": [
    {
     "name": "stdout",
     "output_type": "stream",
     "text": [
      "What an intriguing combination! Here's a short story that combines creativity, bravery, hardship, and an encouraging tone:\n",
      "\n",
      "**The Star Weaver**\n",
      "\n",
      "In a world where darkness was a palpable entity, weaving stars into existence was an ancient art passed down through generations of skilled weavers. These artisans would imbue the fabric with the essence of celestial bodies, creating tapestries that not only illuminated but also held the power to heal.\n",
      "\n",
      "Aria, a young and fiery weaver, lived in the shadow of her father's greatness. Her renowned master, Eryndor Thorne, had been renowned for his mastery over the stars themselves. However, after an ill-fated expedition to capture a rare celestial thread, he vanished into the very darkness that his creations had kept at bay.\n",
      "\n",
      "Aria, determined to follow in her father's footsteps and prove herself worthy, set out on a perilous journey to uncover the secrets of his disappearance. The path was fraught with treacherous landscapes, ravenous creatures, and dark forces that sought to extinguish the light within her.\n",
      "\n",
      "As she traversed through the shadowlands, Aria encountered the Guardians of Night – imposing beings tasked with maintaining balance in the realm. These enigmatic guardians were not what they seemed; their piercing gaze held an unexpected kindness, and their words carried ancient wisdom:\n",
      "\n",
      "\"The darkness will consume you if you let it. Fearlessness is not about ignoring its presence but facing it head-on.\"\n",
      "\n",
      "Aria learned that her father's true intention was not to capture the celestial thread but to understand the delicate dance between light and shadow. Eryndor had discovered a hidden harmony within the cosmos, one that only revealed itself in moments of profound courage.\n",
      "\n",
      "With newfound determination, Aria pressed on, her fingers trembling as she wove a tapestry infused with the essence of stars. As she worked, the shadows began to recede, revealing glints of starlight within her very soul. Her creation took shape – an intricate weave that depicted the resilience of light in the face of overwhelming darkness.\n",
      "\n",
      "In a climactic confrontation with the dark forces, Aria summoned the courage to confront her own fears and doubts. She stood before the void, weaving threads from the heart of a nearby star into a shimmering fabric of hope.\n",
      "\n",
      "The tapestry radiated an otherworldly light that shattered the shadows, imbuing the surrounding air with an essence that spoke directly to the hearts of all who beheld it: \"Courage lies not in eradicating darkness but in shining brighter within its presence.\"\n",
      "\n",
      "Aria returned home a changed weaver, her craft infused with the understanding that bravery is not the absence of fear but the willingness to face it head-on. As she continued to weave stars into existence, she inspired others to do the same – creating an unbroken chain of light that illuminated even the darkest corners of their world.\n",
      "\n",
      "**The Star Weaver's legacy lived on, reminding generations that in times of hardship and darkness, bravery shines brightest when woven into every thread of one's being.**\n",
      "\n",
      "I hope you enjoyed this story!\n"
     ]
    }
   ],
   "source": [
    "response = create_short_story(\"Fiction\", \"Bravery and hardship\", \"Creativity\", \"Encouraging\")\n",
    "print(response)"
   ]
  }
 ],
 "metadata": {
  "kernelspec": {
   "display_name": "Python 3 (ipykernel)",
   "language": "python",
   "name": "python3"
  },
  "language_info": {
   "codemirror_mode": {
    "name": "ipython",
    "version": 3
   },
   "file_extension": ".py",
   "mimetype": "text/x-python",
   "name": "python",
   "nbconvert_exporter": "python",
   "pygments_lexer": "ipython3",
   "version": "3.11.6"
  }
 },
 "nbformat": 4,
 "nbformat_minor": 5
}
