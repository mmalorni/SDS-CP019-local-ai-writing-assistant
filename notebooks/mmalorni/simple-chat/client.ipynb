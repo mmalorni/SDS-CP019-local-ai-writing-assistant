{
 "cells": [
  {
   "cell_type": "code",
   "execution_count": null,
   "id": "bedfea48-d6cf-4212-908d-2587ea5d4437",
   "metadata": {},
   "outputs": [
    {
     "name": "stdin",
     "output_type": "stream",
     "text": [
      "Enter a prompt:  Tell me about yourself\n"
     ]
    },
    {
     "name": "stdout",
     "output_type": "stream",
     "text": [
      "\n",
      "\n",
      "I'm just an AI, I don't have a personal identity or experiences like humans do. I exist solely to assist and provide information to users like you through text-based conversations. My primary function is to understand and process natural language input, and generate appropriate responses based on my training data.\n",
      "\n",
      "I'm here to help you with any questions or topics you'd like to discuss, so feel free to ask me anything!\n",
      "\n",
      "\n"
     ]
    }
   ],
   "source": [
    "import json\n",
    "import requests\n",
    "\n",
    "# NOTE: ollama must be running for this to work, start the ollama app or run `ollama serve`\n",
    "model = \"llama2\"  # TODO: update this for whatever model you wish to use\n",
    "\n",
    "\n",
    "def chat(messages):\n",
    "    r = requests.post(\n",
    "        \"http://127.0.0.1:11434/api/chat\",\n",
    "        json={\"model\": model, \"messages\": messages, \"stream\": True},\n",
    "\tstream=True\n",
    "    )\n",
    "    r.raise_for_status()\n",
    "    output = \"\"\n",
    "\n",
    "    for line in r.iter_lines():\n",
    "        body = json.loads(line)\n",
    "        if \"error\" in body:\n",
    "            raise Exception(body[\"error\"])\n",
    "        if body.get(\"done\") is False:\n",
    "            message = body.get(\"message\", \"\")\n",
    "            content = message.get(\"content\", \"\")\n",
    "            output += content\n",
    "            # the response streams one token at a time, print that as we receive it\n",
    "            print(content, end=\"\", flush=True)\n",
    "\n",
    "        if body.get(\"done\", False):\n",
    "            message[\"content\"] = output\n",
    "            return message\n",
    "\n",
    "\n",
    "def main():\n",
    "    messages = []\n",
    "\n",
    "    while True:\n",
    "        user_input = input(\"Enter a prompt: \")\n",
    "        if not user_input:\n",
    "            exit()\n",
    "        print()\n",
    "        messages.append({\"role\": \"user\", \"content\": user_input})\n",
    "        message = chat(messages)\n",
    "        messages.append(message)\n",
    "        print(\"\\n\\n\")\n",
    "\n",
    "\n",
    "if __name__ == \"__main__\":\n",
    "    main()\n"
   ]
  },
  {
   "cell_type": "code",
   "execution_count": null,
   "id": "7a0c0aac-7ba6-4dcd-9835-f587232a06c8",
   "metadata": {},
   "outputs": [],
   "source": []
  }
 ],
 "metadata": {
  "kernelspec": {
   "display_name": "Python (SDS-CP019)",
   "language": "python",
   "name": "sds-cp019"
  },
  "language_info": {
   "codemirror_mode": {
    "name": "ipython",
    "version": 3
   },
   "file_extension": ".py",
   "mimetype": "text/x-python",
   "name": "python",
   "nbconvert_exporter": "python",
   "pygments_lexer": "ipython3",
   "version": "3.8.5"
  }
 },
 "nbformat": 4,
 "nbformat_minor": 5
}
